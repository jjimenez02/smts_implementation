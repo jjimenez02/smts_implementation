{
 "cells": [
  {
   "cell_type": "markdown",
   "metadata": {},
   "source": [
    "# Purposes\n",
    "- En este librillo pretendemos comparar RandomForest contra SMTS y la codificación que, SMTS, utiliza."
   ]
  },
  {
   "cell_type": "markdown",
   "metadata": {},
   "source": [
    "## Prerequisites"
   ]
  },
  {
   "cell_type": "code",
   "execution_count": 1,
   "metadata": {},
   "outputs": [],
   "source": [
    "import os\n",
    "os.chdir('../')"
   ]
  },
  {
   "cell_type": "markdown",
   "metadata": {},
   "source": [
    "# Utility functions"
   ]
  },
  {
   "cell_type": "code",
   "execution_count": 2,
   "metadata": {},
   "outputs": [],
   "source": [
    "from sklearn.ensemble import RandomForestClassifier\n",
    "from SMTS import SMTS\n",
    "from Datos import Datos\n",
    "import ClassifierUtils\n",
    "import pickle\n",
    "import numpy as np\n",
    "\n",
    "SEED = 1\n",
    "PKL_DIR = 'pkl/'\n",
    "\n",
    "data = Datos()"
   ]
  },
  {
   "cell_type": "markdown",
   "metadata": {},
   "source": [
    "## Common data"
   ]
  },
  {
   "cell_type": "code",
   "execution_count": 3,
   "metadata": {},
   "outputs": [],
   "source": [
    "# import CodificationUtils\n",
    "\n",
    "# X = data.getWindowsOverStimulatedInterval(\n",
    "#     mode={'nWindows': 1},\n",
    "#     codificationFn=CodificationUtils.trendFn\n",
    "# )\n",
    "\n",
    "# with open(PKL_DIR + 'trend_data', 'wb') as file:\n",
    "#     pickle.dump(X, file)"
   ]
  },
  {
   "cell_type": "code",
   "execution_count": 4,
   "metadata": {},
   "outputs": [],
   "source": [
    "with open(PKL_DIR + 'trend_data', 'rb') as file:\n",
    "    X = pickle.load(file)"
   ]
  },
  {
   "cell_type": "code",
   "execution_count": 5,
   "metadata": {},
   "outputs": [],
   "source": [
    "X, relationWithSeries = X"
   ]
  },
  {
   "cell_type": "code",
   "execution_count": 6,
   "metadata": {},
   "outputs": [],
   "source": [
    "X_train, X_test, y_train, y_test = ClassifierUtils.windowedTrainTestSplit(\n",
    "    X, relationWithSeries, trainSize=0.7, seed=SEED, dropColumns=[])\n",
    "\n",
    "y_train, y_test =\\\n",
    "    np.asarray(X_train.pop('class')), np.asarray(X_test.pop('class'))"
   ]
  },
  {
   "cell_type": "markdown",
   "metadata": {},
   "source": [
    "## RandomForestClassifier"
   ]
  },
  {
   "cell_type": "code",
   "execution_count": 7,
   "metadata": {},
   "outputs": [
    {
     "data": {
      "text/plain": [
       "RandomForestClassifier(max_leaf_nodes=5, random_state=1)"
      ]
     },
     "execution_count": 7,
     "metadata": {},
     "output_type": "execute_result"
    }
   ],
   "source": [
    "rf_clf = RandomForestClassifier(n_estimators=100, max_leaf_nodes=5, random_state=SEED)\n",
    "rf_clf.fit(X_train.drop('id', axis=1), y_train)"
   ]
  },
  {
   "cell_type": "code",
   "execution_count": 8,
   "metadata": {},
   "outputs": [
    {
     "data": {
      "text/plain": [
       "0.7057770335544535"
      ]
     },
     "execution_count": 8,
     "metadata": {},
     "output_type": "execute_result"
    }
   ],
   "source": [
    "rf_clf.score(X_test.drop('id', axis=1), y_test)"
   ]
  },
  {
   "cell_type": "code",
   "execution_count": 9,
   "metadata": {},
   "outputs": [
    {
     "name": "stdout",
     "output_type": "stream",
     "text": [
      "CVScore: 0.7550994921687717 +/- 0.0986875871858381\n"
     ]
    }
   ],
   "source": [
    "rf_scores = ClassifierUtils.windowedCrossVal(\n",
    "    rf_clf, X, relationWithSeries, cv=10, seed=SEED)\n",
    "\n",
    "print('CVScore: {} +/- {}'.format(np.mean(rf_scores), np.std(rf_scores)))"
   ]
  },
  {
   "cell_type": "markdown",
   "metadata": {},
   "source": [
    "## SMTS"
   ]
  },
  {
   "cell_type": "code",
   "execution_count": 13,
   "metadata": {},
   "outputs": [],
   "source": [
    "smts_clf = SMTS(j_ins=100, n_symbols=5, random_state=SEED)\n",
    "smts_clf.fit(X_train, y_train)"
   ]
  },
  {
   "cell_type": "code",
   "execution_count": 14,
   "metadata": {},
   "outputs": [
    {
     "data": {
      "text/plain": [
       "0.8333333333333334"
      ]
     },
     "execution_count": 14,
     "metadata": {},
     "output_type": "execute_result"
    }
   ],
   "source": [
    "smts_clf.score(X_test, y_test)"
   ]
  },
  {
   "cell_type": "code",
   "execution_count": 15,
   "metadata": {},
   "outputs": [
    {
     "name": "stdout",
     "output_type": "stream",
     "text": [
      "CVScore: 0.8 +/- 0.13877773329774218\n"
     ]
    }
   ],
   "source": [
    "smts_scores = ClassifierUtils.windowedCrossVal(\n",
    "    smts_clf,\n",
    "    X,\n",
    "    relationWithSeries,\n",
    "    cv=10,\n",
    "    dropColumns=['class'],\n",
    "    customEstimator=True,\n",
    "    seed=SEED\n",
    ")\n",
    "\n",
    "print('CVScore: {} +/- {}'.format(np.mean(smts_scores), np.std(smts_scores)))"
   ]
  },
  {
   "cell_type": "markdown",
   "metadata": {},
   "source": [
    "# Conclusions\n",
    "- Observamos una mejora notable del algoritmo SMTS frente a RandomForest.\n",
    "- Esto se debe a que, SMTS, utiliza una codificación simbólica que representa el tiempo implícitamente a través del primer RandomForest que utiliza y la frecuencia con la que los elementos de una clase caen en una u otra hoja de forma ordenada.\n",
    "  - Esto da a SMTS una ventaja pues dispone de un mayor nº de patrones que poder identificar proporcionados de la forma de un vector de frecuencias ordenado en función de los índices de los nodos hoja de cada árbol.\n",
    "- La diferencia fundamental de RF y SMTS es:\n",
    "  - La codificación simbólica\n",
    "    - Mientras que RF barajea todas las muestras de todas las series, SMTS, les da un orden (en función de los índices de las hojas de un RandomForest que utiliza para generar el conjunto de datos simbólico) y registra un vector de frecuencias que representa a cada serie. -> Orden (gracias a la columna temporal empleada en el 1er RF) + BoW (vectores de frecuencias de aparición de determinados patrones de la ventana de una serie en concreto para dárselo a entrenar al 2º RF)\n",
    "  - SMTS utiliza 2 RF:\n",
    "    - El primero para generar el conjunto de datos simbólico introduciendo el tiempo como un atributo más.\n",
    "    - El segundo para clasificar nuevos datos que lleguen (a los cuales les debe aplicar también una codificación simbólica basada en el primer RandomForest para no sesgar al modelo)."
   ]
  }
 ],
 "metadata": {
  "interpreter": {
   "hash": "1347ad4b38cfd14e57c3f4c69ad8df7b0fe506ae2146aacafada12ff9918d972"
  },
  "kernelspec": {
   "display_name": "Python 3.8.10 64-bit ('faaProyConda': conda)",
   "language": "python",
   "name": "python3"
  },
  "language_info": {
   "codemirror_mode": {
    "name": "ipython",
    "version": 3
   },
   "file_extension": ".py",
   "mimetype": "text/x-python",
   "name": "python",
   "nbconvert_exporter": "python",
   "pygments_lexer": "ipython3",
   "version": "3.8.10"
  },
  "orig_nbformat": 4
 },
 "nbformat": 4,
 "nbformat_minor": 2
}
